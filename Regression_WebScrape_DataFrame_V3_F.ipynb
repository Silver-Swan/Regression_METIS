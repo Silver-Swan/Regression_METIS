{
 "cells": [
  {
   "cell_type": "code",
   "execution_count": 1,
   "id": "7ee1f3f5",
   "metadata": {},
   "outputs": [],
   "source": [
    "# Load required libraries\n",
    "\n",
    "from bs4 import BeautifulSoup\n",
    "import requests\n",
    "\n",
    "import time, os\n",
    "from selenium import webdriver\n",
    "from selenium.webdriver.common.keys import Keys\n",
    "import re\n",
    "\n",
    "import pandas as pd\n",
    "import numpy as np\n",
    "import dateutil.parser\n",
    "import statsmodels.api as sm\n",
    "from sklearn.linear_model import LinearRegression\n",
    "import matplotlib.pyplot as plt\n",
    "import seaborn as sns\n",
    "\n",
    "%config InlineBackend.figure_formats = ['svg']  # or svg\n",
    "%matplotlib inline\n",
    "\n",
    "chromedriver = \"/Applications/chromedriver\" # path to the chromedriver executable\n",
    "os.environ[\"webdriver.chrome.driver\"] = chromedriver"
   ]
  },
  {
   "cell_type": "code",
   "execution_count": 2,
   "id": "6b5bc292",
   "metadata": {},
   "outputs": [],
   "source": [
    "url = (\"https://www.boxofficemojo.com/?ref_=bo_nb_gs_mojologo\")"
   ]
  },
  {
   "cell_type": "code",
   "execution_count": 3,
   "id": "29dafe38",
   "metadata": {},
   "outputs": [],
   "source": [
    "# To open the website.\n",
    "driver = webdriver.Chrome(chromedriver)\n",
    "driver.get(url) # ex: driver.get(youtube_query)\n",
    "time.sleep(1)"
   ]
  },
  {
   "cell_type": "code",
   "execution_count": 4,
   "id": "d03c91df",
   "metadata": {},
   "outputs": [],
   "source": [
    "# select worldwide\n",
    "worldwide_tab = driver.find_element_by_xpath(\"//*[contains(text(), 'Worldwide')]\")\n",
    "worldwide_tab.click()\n",
    "time.sleep(1)"
   ]
  },
  {
   "cell_type": "code",
   "execution_count": 5,
   "id": "6c7991eb",
   "metadata": {},
   "outputs": [],
   "source": [
    "# select year 2011 for any year just change all the 2011 to the desired year.\n",
    "year_selection = driver.find_element_by_xpath('//select[@name = \"year-navSelector\"]')\n",
    "year_selection.send_keys(\"2012\")\n",
    "time.sleep(1)"
   ]
  },
  {
   "cell_type": "code",
   "execution_count": 17,
   "id": "4458b3dd",
   "metadata": {},
   "outputs": [],
   "source": [
    "updated_URL=driver.current_url\n",
    "driver.page_source\n",
    "soup = BeautifulSoup(driver.page_source, 'html.parser')\n",
    "\n",
    "table_worldwide = soup.find(id ='table')\n",
    "rows = [row for row in table_worldwide.find_all('tr')]"
   ]
  },
  {
   "cell_type": "code",
   "execution_count": 25,
   "id": "a55bdcd4",
   "metadata": {},
   "outputs": [],
   "source": [
    "movies_2012_link = {}\n",
    "\n",
    "for row in rows[1:]:\n",
    "    items = row.find_all('td')\n",
    "    link = items[1].find('a')\n",
    "    title, url = link.text, link['href']\n",
    "    movies_2012_link[title] = [url] + [i.text for i in items]\n",
    "    \n",
    "movies_2012_link"
   ]
  },
  {
   "cell_type": "code",
   "execution_count": null,
   "id": "2b4b5dc7",
   "metadata": {},
   "outputs": [],
   "source": [
    "df_movie_info_2012 = pd.DataFrame(movies_2011_link).T  #transpose\n",
    "df_movie_info_2012.columns = ['link_stub','Rank', 'Release_Group', 'World_Wide_Profit', 'Domestic', 'Domestic_GToD_Percent', 'Foreign', 'Foreign_GToD_Percent']\n",
    "df_movie_info_2012.to_csv('2011_WorldWide_Box_Office_Links.csv')\n",
    "df_movie_info_2012.head(100)"
   ]
  },
  {
   "cell_type": "code",
   "execution_count": null,
   "id": "e68c9c1b",
   "metadata": {},
   "outputs": [],
   "source": [
    "df_movie_info_2012.info()"
   ]
  },
  {
   "cell_type": "code",
   "execution_count": null,
   "id": "3d7f6c6d",
   "metadata": {},
   "outputs": [],
   "source": [
    "df_movie_info_2012.columns"
   ]
  },
  {
   "cell_type": "code",
   "execution_count": null,
   "id": "82bb6cca",
   "metadata": {},
   "outputs": [],
   "source": [
    "# clean up the columns removing $\\-,\n",
    "df_movie_info_2012[df_movie_info_2011.columns[5:]] = df_movie_info_2011[df_movie_info_2011.columns[5:]].replace('[$\\-,]', '', regex=True)"
   ]
  },
  {
   "cell_type": "code",
   "execution_count": null,
   "id": "a72c8b3c",
   "metadata": {},
   "outputs": [],
   "source": [
    "df_movie_info_2012['Domestic'] = pd.to_numeric(df_movie_info_2011['Domestic'])\n",
    "df_movie_info_2012['Foreign'] = pd.to_numeric(df_movie_info_2011['Foreign'])"
   ]
  },
  {
   "cell_type": "code",
   "execution_count": null,
   "id": "26216070",
   "metadata": {},
   "outputs": [],
   "source": [
    "df_movie_info_2012.head()"
   ]
  },
  {
   "cell_type": "code",
   "execution_count": null,
   "id": "3c5b73c3",
   "metadata": {},
   "outputs": [],
   "source": [
    "df_movie_info_2012.info()"
   ]
  },
  {
   "cell_type": "code",
   "execution_count": null,
   "id": "e7c03415",
   "metadata": {},
   "outputs": [],
   "source": [
    "# Functions to convert to int and datetime.\n",
    "\n",
    "def money_to_int(moneystring):\n",
    "    moneystring = moneystring.replace('$', '').replace(',', '')\n",
    "    return int(moneystring)\n",
    "\n",
    "def runtime_to_minutes(runtimestring):\n",
    "    runtime = runtimestring.split()\n",
    "    try:\n",
    "        minutes = int(runtime[0])*60 + int(runtime[2])\n",
    "        return minutes\n",
    "    except:\n",
    "        return None\n",
    "\n",
    "def to_date(datestring):\n",
    "    date = dateutil.parser.parse(datestring)\n",
    "    return date"
   ]
  },
  {
   "cell_type": "code",
   "execution_count": null,
   "id": "08efa9ea",
   "metadata": {},
   "outputs": [],
   "source": [
    "def get_movie_dict(url):\n",
    "    '''\n",
    "    From BoxOfficeMojo link stub, request movie html, parse with BeautifulSoup, and\n",
    "    collect \n",
    "        - title \n",
    "        - domestic gross\n",
    "        - runtime\n",
    "        - MPAA rating\n",
    "        - Budget\n",
    "        - full release date\n",
    "    Return information as a dictionary.\n",
    "    '''\n",
    "    \n",
    "    base_url = 'https://www.boxofficemojo.com'\n",
    "    \n",
    "    #Create full url to scrape\n",
    "    url = base_url + link\n",
    "    \n",
    "    #Request HTML and parse\n",
    "    driver.get(url)\n",
    "    time.sleep(1)\n",
    "    \n",
    "    # Use selenium to navigate through page\n",
    "    title_summary = driver.find_element_by_xpath(\"//*[contains(text(), 'Title Summary')]\")\n",
    "    title_summary.click()\n",
    "    time.sleep(1)\n",
    "    \n",
    "    #Update the to current url\n",
    "    updated_URL=driver.current_url\n",
    "    driver.page_source\n",
    "    soup = BeautifulSoup(driver.page_source, 'html.parser')\n",
    "    \n",
    "    \n",
    "    headers = ['movie_title', 'domestic_total_gross',\n",
    "               'runtime_minutes', 'rating', 'release_date', 'budget']\n",
    "    \n",
    "    #Get title\n",
    "    title_string = soup.find('title').text\n",
    "    title = title_string.split('-')[0].strip()\n",
    "\n",
    "    #Get domestic gross\n",
    "    raw_domestic_total_gross = (soup.find(class_='mojo-performance-summary-table').find_all('span', class_='money')[0].text)\n",
    "    domestic_total_gross = money_to_int(raw_domestic_total_gross)\n",
    "\n",
    "    #Get runtime\n",
    "    raw_runtime = get_movie_value(soup,'Running')\n",
    "    raw_runtime = \"2hr 00min\" if raw_runtime is None else raw_runtime\n",
    "    runtime = runtime_to_minutes(raw_runtime)\n",
    "    \n",
    "    #Get rating\n",
    "    rating = get_movie_value(soup,'MPAA')\n",
    "\n",
    "    #Get release date\n",
    "    raw_release_date = get_movie_value(soup,'Earliest').split('\\n')[0]\n",
    "    release_date = to_date(raw_release_date)\n",
    "    \n",
    "    #Get Budget  \n",
    "    budget = get_movie_value(soup,'Budget')\n",
    "    budget = \"$500,000\" if budget is None else budget\n",
    "    movie_budget = money_to_int(budget)\n",
    "    \n",
    "    #Create movie dictionary and return\n",
    "    movie_dict = dict(zip(headers, [title, domestic_total_gross, runtime, rating, release_date, movie_budget]))\n",
    "\n",
    "    return movie_dict"
   ]
  },
  {
   "cell_type": "code",
   "execution_count": null,
   "id": "f651888b",
   "metadata": {},
   "outputs": [],
   "source": [
    "def get_movie_value(soup, field_name):\n",
    "    \n",
    "    '''Grab a value from Box Office Mojo HTML\n",
    "    \n",
    "    Takes a string attribute of a movie on the page and returns the string in\n",
    "    the next sibling object (the value for that attribute) or None if nothing is found.\n",
    "    '''\n",
    "    \n",
    "    obj = soup.find(text=re.compile(field_name))\n",
    "    \n",
    "    if not obj:\n",
    "        return None\n",
    "    \n",
    "    # this works for most of the values\n",
    "    next_element = obj.findNext()\n",
    "    \n",
    "    if next_element:\n",
    "        return next_element.text \n",
    "    else:\n",
    "        return None"
   ]
  },
  {
   "cell_type": "code",
   "execution_count": null,
   "id": "28cc4097",
   "metadata": {},
   "outputs": [],
   "source": [
    "movies_2012_info_list = []\n",
    "\n",
    "for link in df_movies_2012.link_stub:\n",
    "    movies_2012_info_list.append(get_movie_dict(link))"
   ]
  },
  {
   "cell_type": "code",
   "execution_count": null,
   "id": "ba5a7208",
   "metadata": {},
   "outputs": [],
   "source": [
    "movies_2012_info_list [:6]"
   ]
  },
  {
   "cell_type": "code",
   "execution_count": null,
   "id": "1d66247f",
   "metadata": {},
   "outputs": [],
   "source": [
    "# make a dataframe\n",
    "\n",
    "df_movie_info_2012 = pd.DataFrame(movies_2011_info_list)# Transpose\n",
    "df_movie_info_2012.set_index('movie_title', inplace=True)\n",
    "\n",
    "# df_movie_info_2011.to_csv('2011_WorldWide_Box_Office_Links.csv')\n",
    "\n",
    "df_movie_info_2012.head()"
   ]
  },
  {
   "cell_type": "code",
   "execution_count": null,
   "id": "c2acdfc6",
   "metadata": {},
   "outputs": [],
   "source": [
    "df_movie_info_2012.info()"
   ]
  },
  {
   "cell_type": "code",
   "execution_count": null,
   "id": "0416f590",
   "metadata": {},
   "outputs": [],
   "source": [
    "df_movies_2012_full = df_movies_2012.merge(df_movie_info_2011, left_index=True, right_index=True)\n",
    "df_movies_2012_full.to_csv('2011_Top_WorldWide_Box_Office.csv')\n",
    "df_movies_2012_full.head()"
   ]
  },
  {
   "cell_type": "markdown",
   "id": "334ddb8b",
   "metadata": {},
   "source": []
  }
 ],
 "metadata": {
  "kernelspec": {
   "display_name": "Python 3 (ipykernel)",
   "language": "python",
   "name": "python3"
  },
  "language_info": {
   "codemirror_mode": {
    "name": "ipython",
    "version": 3
   },
   "file_extension": ".py",
   "mimetype": "text/x-python",
   "name": "python",
   "nbconvert_exporter": "python",
   "pygments_lexer": "ipython3",
   "version": "3.8.10"
  }
 },
 "nbformat": 4,
 "nbformat_minor": 5
}
